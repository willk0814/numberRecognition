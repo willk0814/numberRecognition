{
  "cells": [
    {
      "cell_type": "markdown",
      "metadata": {
        "id": "oMK1Hj_XmJzA"
      },
      "source": [
        "## **0. Imports**"
      ]
    },
    {
      "cell_type": "code",
      "execution_count": 25,
      "metadata": {
        "id": "KAY5JcIXls3x"
      },
      "outputs": [],
      "source": [
        "# necessary to import data\n",
        "# import gzip\n",
        "import struct\n",
        "import os\n",
        "\n",
        "# storing data\n",
        "import numpy as np\n",
        "\n",
        "# plotting\n",
        "import matplotlib.pyplot as plt"
      ]
    },
    {
      "cell_type": "markdown",
      "metadata": {
        "id": "a48a0yE_mZOj"
      },
      "source": [
        "## **1. Data Acquisition and Visualization**"
      ]
    },
    {
      "cell_type": "code",
      "execution_count": 22,
      "metadata": {
        "id": "26gWGn8fmgNA"
      },
      "outputs": [],
      "source": [
        "# given function to read data in from a file and return a np array\n",
        "def read_gzip_file(filename):\n",
        "    with open(filename, 'rb') as f:\n",
        "      zero, data_type, dims = struct.unpack('>HBB', f.read(4))\n",
        "      shape = tuple(struct.unpack('>I', f.read(4))[0] for d in range(dims))\n",
        "      return np.frombuffer(f.read(), dtype=np.uint8).reshape(shape)"
      ]
    },
    {
      "cell_type": "code",
      "execution_count": 26,
      "metadata": {
        "colab": {
          "base_uri": "https://localhost:8080/"
        },
        "id": "VIEUZOLRIiMk",
        "outputId": "3df1f322-b4f8-48b7-b3db-f0bea9ba0869"
      },
      "outputs": [
        {
          "name": "stdout",
          "output_type": "stream",
          "text": [
            "Training Images: (60000, 28, 28) and Training Labels: (60000,)\n",
            "Testing Images: (10000, 28, 28) and Testing Labels: (10000,)\n"
          ]
        }
      ],
      "source": [
        "# let's use the above function to pull in all of our data and take a look the shapes of it\n",
        "test_images = read_gzip_file('t10k-images-idx3-ubyte')\n",
        "test_labels = read_gzip_file('t10k-labels-idx1-ubyte')\n",
        "train_images = read_gzip_file('train-images-idx3-ubyte')\n",
        "train_labels = read_gzip_file('train-labels-idx1-ubyte')\n",
        "\n",
        "# print out the shapes of our above created datasets\n",
        "print(f'Training Images: {train_images.shape} and Training Labels: {train_labels.shape}')\n",
        "print(f'Testing Images: {test_images.shape} and Testing Labels: {test_labels.shape}')"
      ]
    },
    {
      "cell_type": "code",
      "execution_count": 24,
      "metadata": {
        "colab": {
          "base_uri": "https://localhost:8080/",
          "height": 452
        },
        "id": "aQFRe_wAJCke",
        "outputId": "8dd1c4ef-2821-47c3-ff04-59cf2eba546d"
      },
      "outputs": [
        {
          "data": {
            "image/png": "[encoded data removed]",
            "text/plain": [
              "<Figure size 640x480 with 1 Axes>"
            ]
          },
          "metadata": {},
          "output_type": "display_data"
        }
      ],
      "source": [
        "# select a random data index in the training set\n",
        "random_index = np.random.randint(0, train_images.shape[0])\n",
        "\n",
        "# store the data point and label at the random index\n",
        "image, label = train_images[random_index], train_labels[random_index]\n",
        "\n",
        "# visualize the data point along with the label\n",
        "plt.title(f'Label: {label}')\n",
        "plt.imshow(image)\n",
        "plt.show()"
      ]
    },
    {
      "cell_type": "markdown",
      "metadata": {
        "id": "GWOIbRSnLkPO"
      },
      "source": [
        "## **2. Data Preprocessing**"
      ]
    },
    {
      "cell_type": "code",
      "execution_count": 5,
      "metadata": {
        "colab": {
          "base_uri": "https://localhost:8080/"
        },
        "id": "UQQmqTHcLo64",
        "outputId": "7de9cd2e-7a42-49af-e313-c066c91d163b"
      },
      "outputs": [
        {
          "data": {
            "text/plain": [
              "(60000, 10)"
            ]
          },
          "execution_count": 5,
          "metadata": {},
          "output_type": "execute_result"
        }
      ],
      "source": [
        "# normalize the pixel-values of images so that all values are between 0 and 1\n",
        "train_images_norm = train_images.copy() / 255.0\n",
        "test_images_norm = test_images.copy() / 255.0\n",
        "\n",
        "# convert the labels from categorical data into numerical values using one-hot encoding\n",
        "# store the number of classes = 10 (0-9)\n",
        "num_classes = 10\n",
        "\n",
        "# create an identity matrix of size = num_classes\n",
        "one_hot_matrix = np.eye(num_classes)\n",
        "\n",
        "# create a new matrix to store the one-hot encoded labels\n",
        "encoded_train_labels = np.array([one_hot_matrix[label] for label in train_labels])\n",
        "encoded_test_labels = np.array([one_hot_matrix[label] for label in test_labels])\n",
        "\n",
        "encoded_train_labels.shape"
      ]
    },
    {
      "cell_type": "markdown",
      "metadata": {
        "id": "UXCkxQL7UQrW"
      },
      "source": [
        "## **3. Network Initialization**"
      ]
    },
    {
      "cell_type": "code",
      "execution_count": 6,
      "metadata": {
        "id": "ho3_2Var2a6R"
      },
      "outputs": [],
      "source": [
        "# Resize the images to be 2D\n",
        "train_images_norm = train_images_norm.copy().reshape((60000, 28*28))\n",
        "test_images = test_images.copy().reshape(10000, 28*28)"
      ]
    },
    {
      "cell_type": "code",
      "execution_count": 7,
      "metadata": {
        "id": "9RADdGWudDJQ"
      },
      "outputs": [],
      "source": [
        "# define the sigmoid function - activation function for hidden layers\n",
        "def sigmoid(x):\n",
        "  return 1 / (1 + np.exp(-x))"
      ]
    },
    {
      "cell_type": "code",
      "execution_count": 8,
      "metadata": {
        "id": "X5Jvi6WlRMYI"
      },
      "outputs": [],
      "source": [
        "# define the derivative of the sigmoid function\n",
        "def sigmoid_derivative(x):\n",
        "  return sigmoid(x) * (1 - sigmoid(x))"
      ]
    },
    {
      "cell_type": "code",
      "execution_count": 9,
      "metadata": {
        "id": "3ak2rHYjdFMS"
      },
      "outputs": [],
      "source": [
        "# define the soft-max function - activation function for output layers\n",
        "def soft_max(x):\n",
        "  e_x = np.exp(x)\n",
        "  return e_x/e_x.sum(axis=1, keepdims=True)"
      ]
    },
    {
      "cell_type": "code",
      "execution_count": 10,
      "metadata": {
        "id": "qJVZJpNGUXCw"
      },
      "outputs": [],
      "source": [
        "# define network architecture\n",
        "input_size, output_size = 784, 10\n",
        "hidden1_size, hidden2_size = 128, 64\n",
        "\n",
        "# Set the random seed\n",
        "seed_value = 695\n",
        "np.random.seed(seed_value)\n",
        "\n",
        "# establish weights and biases for input layer\n",
        "W1 = np.random.uniform(-0.1, 0.1, size=(input_size, hidden1_size))\n",
        "b1 = np.zeros((1, hidden1_size))\n",
        "\n",
        "# establish weights and biases for hidden layer 1\n",
        "W2 = np.random.uniform(-0.1, 0.1, size=(hidden1_size, hidden2_size))\n",
        "b2 = np.zeros((1, hidden2_size))\n",
        "\n",
        "# establish weights and biases for hidden layer 2\n",
        "W3 = np.random.uniform(-0.1, 0.1, size=(hidden2_size, output_size))\n",
        "b3 = np.zeros((1, output_size))"
      ]
    },
    {
      "cell_type": "markdown",
      "metadata": {
        "id": "nzzGYSX_UdbS"
      },
      "source": [
        "## **4. Feed Forward**"
      ]
    },
    {
      "cell_type": "code",
      "execution_count": 11,
      "metadata": {
        "id": "RP1OjWjZUwVY"
      },
      "outputs": [],
      "source": [
        "# params: x - a data point; w - a weight value; b - a bias values\n",
        "def feed_forward(x, W1, b1, W2, b2, W3, b3):\n",
        "\n",
        "  z1 = np.dot(x, W1) + b1\n",
        "  a1 = sigmoid(z1)\n",
        "\n",
        "  z2 = np.dot(a1, W2) + b2\n",
        "  a2 = sigmoid(z2)\n",
        "\n",
        "  z3 = np.dot(a2, W3) + b3\n",
        "  a3 = soft_max(z3)\n",
        "\n",
        "  return a1, a2, a3"
      ]
    },
    {
      "cell_type": "markdown",
      "metadata": {
        "id": "k-kGNAahUygI"
      },
      "source": [
        "## **5. Back Propagation**"
      ]
    },
    {
      "cell_type": "code",
      "execution_count": 12,
      "metadata": {
        "id": "YkC59BIzU2g1"
      },
      "outputs": [],
      "source": [
        "# function to calculate the categorical cross-entropy\n",
        "def categorical_cross_entropy_loss(y_true, y_pred):\n",
        "  # store the number of samples\n",
        "  n_samples = y_true.shape[0]\n",
        "\n",
        "  # ensure that the y_pred data is within a certain range\n",
        "  y_pred_clipped = np.clip(y_pred, 1e-12, 1 - 1e-12)\n",
        "\n",
        "  # return the categorical cross entropy\n",
        "  return -np.sum(y_true * np.log(y_pred_clipped)) / n_samples"
      ]
    },
    {
      "cell_type": "code",
      "execution_count": 13,
      "metadata": {
        "id": "tcm-9EpIU4r-"
      },
      "outputs": [],
      "source": [
        "# function to carry out back propagation\n",
        "def backpropagation(x, y_true, W1, W2, W3, a1, a2, a3):\n",
        "\n",
        "  dz3 = a3 - y_true\n",
        "  dW3 = np.dot(a2.T, dz3)\n",
        "  db3 = np.sum(dz3, axis=0, keepdims=True)\n",
        "\n",
        "  dz2 = dz3.dot(W3.T) * sigmoid_derivative(a2)\n",
        "  dW2 = np.dot(a1.T, dz2)\n",
        "  db2 = np.sum(dz2, axis=0, keepdims=True)\n",
        "\n",
        "  dz1 = dz2.dot(W2.T) * sigmoid_derivative(a1)\n",
        "  dW1 = np.dot(x.T, dz1)\n",
        "  db1 = np.sum(dz1, axis=0, keepdims=True)\n",
        "\n",
        "  return dW1, db1, dW2, db2, dW3, db3"
      ]
    },
    {
      "cell_type": "markdown",
      "metadata": {
        "id": "k6no_we0U8ox"
      },
      "source": [
        "## **6. Model Training**"
      ]
    },
    {
      "cell_type": "code",
      "execution_count": 14,
      "metadata": {
        "id": "Pxt37TIsmFz9"
      },
      "outputs": [],
      "source": [
        "# define parameters of our mini-batch gradient descent\n",
        "batch_size = 128\n",
        "epoch_count = 100\n",
        "alpha = 0.1"
      ]
    },
    {
      "cell_type": "code",
      "execution_count": 15,
      "metadata": {
        "id": "9otT4nQsVA4_"
      },
      "outputs": [],
      "source": [
        "# use mini-batch gradient descent to update the parameters including weights and biases\n",
        "def mini_batch_gradient_descent(epochs, batch_size, alpha, X, y, W1, b1, W2, b2, W3, b3):\n",
        "  # declare a variable to store theta and cost at each computed value of theta\n",
        "  J_history = []\n",
        "\n",
        "  # iterate the specified number of times\n",
        "  for epoch in range(epochs):\n",
        "    indices = np.arange(train_images_norm.shape[0])\n",
        "    np.random.shuffle(indices)\n",
        "    n_batches = int(train_images_norm.shape[0]/batch_size)\n",
        "\n",
        "    for batch in range(n_batches):\n",
        "        batch_indices = indices[batch * batch_size: (batch+1)*batch_size]\n",
        "        batch_X, batch_Y = X[batch_indices], y[batch_indices]\n",
        "\n",
        "        # feed forward\n",
        "        a1, a2, a3 = feed_forward(batch_X, W1, b1, W2, b2, W3, b3)\n",
        "\n",
        "        # back propagations\n",
        "        dW1, db1, dW2, db2, dW3, db3 = backpropagation(batch_X, batch_Y, W1, W2, W3, a1, a2, a3)\n",
        "\n",
        "        # Update weights\n",
        "        W1 -= alpha * dW1\n",
        "        b1 -= alpha * db1\n",
        "        W2 -= alpha * dW2\n",
        "        b2 -= alpha * db2\n",
        "        W3 -= alpha * dW3\n",
        "        b3 -= alpha * db3\n",
        "\n",
        "\n",
        "    # rerun feed forward to make predictions\n",
        "    a1, a2, a3 = feed_forward(X, W1, b1, W2, b2, W3, b3)\n",
        "\n",
        "    # compute and store the cost\n",
        "    loss = categorical_cross_entropy_loss(y, a3)\n",
        "    J_history.append(loss)\n",
        "\n",
        "  # return theta and cost_history\n",
        "  return W1, b1, W2, b2, W3, b3, J_history"
      ]
    },
    {
      "cell_type": "code",
      "execution_count": 16,
      "metadata": {
        "colab": {
          "base_uri": "https://localhost:8080/"
        },
        "id": "QrKMGLRrs0pP",
        "outputId": "a3c86e88-788f-4b4d-c627-5f7b19fbdf35"
      },
      "outputs": [
        {
          "name": "stderr",
          "output_type": "stream",
          "text": [
            "/var/folders/t3/g8lcpzpj6jgbdf4c7jng69sw0000gn/T/ipykernel_52062/1456983113.py:3: RuntimeWarning: overflow encountered in exp\n",
            "  return 1 / (1 + np.exp(-x))\n"
          ]
        }
      ],
      "source": [
        "W1, b1, W2, b2, W3, b3, J_history = mini_batch_gradient_descent(epoch_count, batch_size, 0.01, train_images_norm, encoded_train_labels, W1, b1, W2, b2, W3, b3)"
      ]
    },
    {
      "cell_type": "markdown",
      "metadata": {
        "id": "ROjJBB1bVDgK"
      },
      "source": [
        "## **7. Model Evaluation**"
      ]
    },
    {
      "cell_type": "code",
      "execution_count": 17,
      "metadata": {
        "colab": {
          "base_uri": "https://localhost:8080/"
        },
        "id": "L6-HG4Z5VIAj",
        "outputId": "c5613726-8537-4fcd-89a3-04dfba1763f1"
      },
      "outputs": [
        {
          "name": "stdout",
          "output_type": "stream",
          "text": [
            "Accuracy: 83.39%\n"
          ]
        },
        {
          "name": "stderr",
          "output_type": "stream",
          "text": [
            "/var/folders/t3/g8lcpzpj6jgbdf4c7jng69sw0000gn/T/ipykernel_52062/1456983113.py:3: RuntimeWarning: overflow encountered in exp\n",
            "  return 1 / (1 + np.exp(-x))\n"
          ]
        }
      ],
      "source": [
        "# use feed forward to return an array of probability predictions\n",
        "a1, a2, a3 = feed_forward(test_images, W1, b1, W2, b2, W3, b3)\n",
        "\n",
        "# convert the probabilities into predictions\n",
        "predictions = np.argmax(a3, axis=1)\n",
        "\n",
        "# count the number of correct predictions\n",
        "correct = np.sum(predictions == test_labels)\n",
        "\n",
        "# calculate the accuracy of our model\n",
        "accuracy = correct / test_labels.shape[0]\n",
        "print(f'Accuracy: {accuracy * 100}%')"
      ]
    },
    {
      "cell_type": "code",
      "execution_count": 18,
      "metadata": {
        "colab": {
          "base_uri": "https://localhost:8080/"
        },
        "id": "t56IWSqoWq48",
        "outputId": "ea49bbbf-7230-42b6-e055-073f8adbe67b"
      },
      "outputs": [
        {
          "name": "stdout",
          "output_type": "stream",
          "text": [
            "Incorrectly Classified Count: 1661\n"
          ]
        }
      ],
      "source": [
        "# store 5 of the incorrectly classified imagegs\n",
        "incorrect_images = []\n",
        "\n",
        "for i, image in enumerate(test_images):\n",
        "  if predictions[i] != test_labels[i]:\n",
        "    incorrect_images.append([image, test_labels[i], predictions[i]])\n",
        "\n",
        "print(f'Incorrectly Classified Count: {len(incorrect_images)}')"
      ]
    },
    {
      "cell_type": "code",
      "execution_count": 19,
      "metadata": {
        "colab": {
          "base_uri": "https://localhost:8080/",
          "height": 452
        },
        "id": "whfJMMbyXVXr",
        "outputId": "1d9e7fb2-2d6d-46e3-a7a0-0e00cf8cdd6d"
      },
      "outputs": [
        {
          "data": {
            "image/png": "[encoded data removed]",
            "text/plain": [
              "<Figure size 640x480 with 1 Axes>"
            ]
          },
          "metadata": {},
          "output_type": "display_data"
        }
      ],
      "source": [
        "# Change this variable to any number in the range (0, Incorrectly Classified Count)\n",
        "idx = 2\n",
        "\n",
        "image, label, prediction = incorrect_images[4]\n",
        "\n",
        "plt.title(f'Correct Label: {label}, Classified as: {prediction}')\n",
        "plt.imshow(image.reshape(28,28))\n",
        "plt.show()"
      ]
    }
  ],
  "metadata": {
    "colab": {
      "provenance": []
    },
    "kernelspec": {
      "display_name": "Python 3",
      "name": "python3"
    },
    "language_info": {
      "codemirror_mode": {
        "name": "ipython",
        "version": 3
      },
      "file_extension": ".py",
      "mimetype": "text/x-python",
      "name": "python",
      "nbconvert_exporter": "python",
      "pygments_lexer": "ipython3",
      "version": "3.9.2"
    }
  },
  "nbformat": 4,
  "nbformat_minor": 0
}
